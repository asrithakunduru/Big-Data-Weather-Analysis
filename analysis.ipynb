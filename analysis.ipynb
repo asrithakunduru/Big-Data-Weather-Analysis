{
 "cells": [
  {
   "cell_type": "code",
   "execution_count": 1,
   "id": "4121bc92",
   "metadata": {
    "scrolled": true
   },
   "outputs": [],
   "source": [
    "from pyspark.sql import SparkSession\n",
    "from pyspark.sql.functions import avg\n",
    "from pyspark.sql.types import StructType, StructField, StringType, DoubleType"
   ]
  },
  {
   "cell_type": "code",
   "execution_count": 2,
   "id": "bba15bc9",
   "metadata": {},
   "outputs": [],
   "source": [
    "# Create a Spark session\n",
    "spark = SparkSession.builder.appName(\"WeatherAnalysis\").getOrCreate()\n",
    "\n",
    "# Define the schema for the CSV data\n",
    "schema = StructType([\n",
    "    StructField(\"city\", StringType(), True),\n",
    "    StructField(\"timestamp\", StringType(), True),\n",
    "    StructField(\"temperature\", StringType(), True),\n",
    "    StructField(\"humidity\", StringType(), True),\n",
    "    StructField(\"weather_description\", StringType(), True),\n",
    "    StructField(\"wind_speed\", StringType(), True),\n",
    "    StructField(\"cloudiness\", StringType(), True)\n",
    "])"
   ]
  },
  {
   "cell_type": "code",
   "execution_count": 3,
   "id": "f39a33d3",
   "metadata": {},
   "outputs": [],
   "source": [
    "# Read CSV data into a Spark DataFrame with the defined schema\n",
    "csv_file_path = 'file:///C:/WeatherMonitoringSystem/weather_forecast.csv'\n",
    "weather_df = spark.read.csv(csv_file_path, header=True, schema=schema)\n"
   ]
  },
  {
   "cell_type": "code",
   "execution_count": 4,
   "id": "c738368b",
   "metadata": {},
   "outputs": [],
   "source": [
    "# Convert temperature, humidity, wind_speed, and cloudiness columns to numeric types\n",
    "numeric_columns = [\"temperature\", \"humidity\", \"wind_speed\", \"cloudiness\"]\n",
    "for column in numeric_columns:\n",
    "    weather_df = weather_df.withColumn(column, weather_df[column].cast(\"double\"))"
   ]
  },
  {
   "cell_type": "code",
   "execution_count": 5,
   "id": "3016d2b5",
   "metadata": {},
   "outputs": [],
   "source": [
    "# Calculate average temperature, humidity, wind_speed, and cloudiness for each city\n",
    "average_stats = weather_df.groupBy(\"city\").agg(\n",
    "    avg(\"temperature\").alias(\"avg_temperature\"),\n",
    "    avg(\"humidity\").alias(\"avg_humidity\"),\n",
    "    avg(\"wind_speed\").alias(\"avg_wind_speed\"),\n",
    "    avg(\"cloudiness\").alias(\"avg_cloudiness\")\n",
    ")"
   ]
  },
  {
   "cell_type": "code",
   "execution_count": 6,
   "id": "ef7d1ee7",
   "metadata": {},
   "outputs": [
    {
     "name": "stdout",
     "output_type": "stream",
     "text": [
      "+-------------+---------------+------------+--------------+--------------+\n",
      "|         city|avg_temperature|avg_humidity|avg_wind_speed|avg_cloudiness|\n",
      "+-------------+---------------+------------+--------------+--------------+\n",
      "|     Winnipeg|         269.63|        76.0|           7.2|         100.0|\n",
      "|      Kelowna|         272.45|        88.0|          1.03|          75.0|\n",
      "|       Ottawa|         272.99|        95.0|          4.12|         100.0|\n",
      "|     Victoria|         279.97|        87.0|         15.43|          75.0|\n",
      "|       London|          276.5|        91.0|          2.57|         100.0|\n",
      "|     Montreal|         273.82|        97.0|          5.66|         100.0|\n",
      "|   St. John's|         278.55|        94.0|          1.54|         100.0|\n",
      "|  Fredericton|         274.46|       100.0|           3.6|         100.0|\n",
      "|      Toronto|         275.62|        92.0|           3.6|         100.0|\n",
      "|    Vancouver|         277.17|        94.0|          5.14|          20.0|\n",
      "|     Edmonton|         263.74|        75.0|          2.24|          56.0|\n",
      "|  Thunder Bay|          267.1|        79.0|          1.54|          75.0|\n",
      "|  Quebec City|         272.94|        94.0|          6.26|         100.0|\n",
      "|       Regina|         266.75|        87.0|          5.14|          20.0|\n",
      "|      Calgary|         267.81|        63.0|          2.57|          75.0|\n",
      "|     Hamilton|         275.28|        96.0|          4.63|         100.0|\n",
      "|   Whitehorse|         262.58|        92.0|          2.06|         100.0|\n",
      "|Charlottetown|         278.04|        97.0|          5.66|         100.0|\n",
      "|    Saskatoon|         263.14|        92.0|           3.6|          40.0|\n",
      "|      Halifax|         281.59|        96.0|          0.45|         100.0|\n",
      "+-------------+---------------+------------+--------------+--------------+\n",
      "\n"
     ]
    }
   ],
   "source": [
    "\n",
    "# Show the results\n",
    "average_stats.show()\n",
    "\n"
   ]
  },
  {
   "cell_type": "code",
   "execution_count": 7,
   "id": "8ff0d516",
   "metadata": {},
   "outputs": [],
   "source": [
    "# Stop the Spark session\n",
    "spark.stop()"
   ]
  },
  {
   "cell_type": "code",
   "execution_count": null,
   "id": "fcf1b581",
   "metadata": {},
   "outputs": [],
   "source": []
  }
 ],
 "metadata": {
  "kernelspec": {
   "display_name": "Python 3 (ipykernel)",
   "language": "python",
   "name": "python3"
  },
  "language_info": {
   "codemirror_mode": {
    "name": "ipython",
    "version": 3
   },
   "file_extension": ".py",
   "mimetype": "text/x-python",
   "name": "python",
   "nbconvert_exporter": "python",
   "pygments_lexer": "ipython3",
   "version": "3.11.5"
  }
 },
 "nbformat": 4,
 "nbformat_minor": 5
}
